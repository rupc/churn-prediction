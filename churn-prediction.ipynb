{
 "cells": [
  {
   "cell_type": "code",
   "execution_count": 2,
   "metadata": {
    "scrolled": true
   },
   "outputs": [],
   "source": [
    "from pyspark.sql import SparkSession\n",
    "from pyspark.sql.types import *\n",
    "# import pandas as pd\n",
    "spark = SparkSession.builder.appName(\"PySpark SQL Practice\").getOrCreate()\n",
    "sc = spark.sparkContext\n",
    "\n",
    "posts_dist = sc.textFile(\"./data/posts_dist.csv\")\n",
    "users_train = sc.textFile(\"./data/users_train_dist.csv\")\n",
    "users_val_dist = sc.textFile(\"./data/users_val_dist.csv\")\n",
    "\n"
   ]
  },
  {
   "cell_type": "code",
   "execution_count": 3,
   "metadata": {},
   "outputs": [],
   "source": [
    "# Get Dataframes from RDDs \n",
    "def convertToDataFrameFromRDD(rdd):\n",
    "    header = rdd.first()\n",
    "    rdd.filter(lambda line: line != header)\n",
    "    tmp = rdd.map(lambda k: k.split(\",\"))\n",
    "    return tmp.toDF(header.split(\",\"))\n",
    "\n",
    "posts_dist_df = convertToDataFrameFromRDD(posts_dist)\n",
    "users_train_df = convertToDataFrameFromRDD(users_train)\n",
    "users_val_dist_df = convertToDataFrameFromRDD(users_val_dist)\n"
   ]
  },
  {
   "cell_type": "code",
   "execution_count": 11,
   "metadata": {},
   "outputs": [],
   "source": [
    "\n",
    "from pyspark.sql import functions as F\n",
    "from pyspark.sql.functions import when, sum, avg, col, count\n",
    "from pyspark.sql.types import LongType, IntegerType\n",
    "from pyspark.sql.functions import udf\n",
    "import pyspark.sql.functions as f\n",
    "\n",
    "# Binning DaysDiff into Early, Mid, Late.\n",
    "def categorizer(DaysDiff):\n",
    "    if DaysDiff <= 30:\n",
    "        return \"early\"\n",
    "    elif DaysDiff < 210:\n",
    "        return \"mid\"\n",
    "    else:\n",
    "        return \"late\"\n",
    "\n",
    "def ExtractFeatures(df, dfu):\n",
    "    # Cast some numeric columns to IntegerType()\n",
    "    df = df.withColumn(\"PostId\", df['PostId'].cast(IntegerType()))\n",
    "    df = df.withColumn(\"AcceptedAnswerId\", df['AcceptedAnswerId'].cast(IntegerType()))\n",
    "    df = df.withColumn(\"CommentCount\", df['CommentCount'].cast(IntegerType()))\n",
    "    df = df.withColumn(\"BodyWordNum\", df['BodyWordNum'].cast(IntegerType()))\n",
    "    df = df.withColumn(\"Score\", df['Score'].cast(IntegerType()))\n",
    "    df = df.withColumn(\"OwnerUserId\", df['OwnerUserId'].cast(IntegerType()))\n",
    "\n",
    "    # Calculate date difference between CreationDate and CreationDateOfOwner\n",
    "    df = df.withColumn(\"DaysDiff\", F.datediff(df['CreationDate'], df['CreationDateOfOwner']))\n",
    "    df = df.withColumn(\"DaysDiff\", df[\"DaysDiff\"].cast(IntegerType()))\n",
    "\n",
    "    df = df.filter(df.DaysDiff >= 0)\n",
    "    df = df.withColumn(\"DaysDiff\", df[\"DaysDiff\"].cast(IntegerType()))\n",
    "\n",
    "    df = df.select(\"OwnerUserId\",\"CreationDateOfOwner\", \"PostId\", \"CreationDate\", \"DaysDiff\", \"Score\",\"AnswerCount\", \"CommentCount\", \"BodyWordNum\", \"AcceptedAnswerId\")\n",
    "    bucket_udf = udf(categorizer, StringType())\n",
    "    df = df.withColumn(\"When\", bucket_udf(\"DaysDiff\"))\n",
    "\n",
    "    dp = df.groupBy(\"OwnerUserId\", \"When\").agg(when(col(\"When\") == \"early\", count(\"*\")).alias(\"EarlyPosts\"), when(col(\"When\") == \"mid\", count(\"*\")).alias(\"MidPost\"), when(col(\"When\") == \"late\", count(\"*\")).alias(\"LatePost\"))\n",
    "    dp = dp.drop(\"When\")\n",
    "    dp = dp.na.fill(0)\n",
    "    dp = dp.groupBy(\"OwnerUserId\").sum()\n",
    "    # Construct per-user statistics\n",
    "    users_df = df.groupBy(\"OwnerUserId\").agg(F.count(\"PostId\").alias(\"TotalPost\"), F.sum(\"Score\").alias(\"TotalScore\"), F.sum(\"AnswerCount\").alias(\"TotalAnswers\"), F.sum(\"CommentCount\").alias(\"TotalCmt\"), F.sum(\"BodyWordNum\").alias(\"TotalWords\"))\n",
    "\n",
    "    users_df = users_df.join(dfu, users_df.OwnerUserId == dfu.Id)\n",
    "    users_df = users_df.drop(\"Id\")\n",
    "    users_df = users_df.drop(\"CreationDate\")\n",
    "    users_df = users_df.join(dp, ['OwnerUserId'])\n",
    "    users_df = users_df.drop(\"sum(OwnerUserId)\")\n",
    "    # users_df = users_df.drop(\"OwnerUserId\")\n",
    "    users_df = users_df.withColumnRenamed(\"sum(EarlyPosts)\", \"#Early\"). \\\n",
    "                                            withColumnRenamed(\"sum(MidPost)\", \"#Mid\"). \\\n",
    "                                            withColumnRenamed(\"sum(LatePost)\", \"#Late\")\n",
    "\n",
    "# users_df = users_df.select('isChurn').rdd.map(lambda x: 0 if x == \"False\" else x)\n",
    "# users_df = users_df['isChurn'].replace(True, 1, inplace=True)\n",
    "    users_df = users_df.withColumn( \"isChurn\" , F.when( F.col(\"isChurn\")==\"True\" , F.lit(1) ).otherwise(0) )\n",
    "    return users_df \n",
    "\n",
    "\n"
   ]
  },
  {
   "cell_type": "code",
   "execution_count": 14,
   "metadata": {},
   "outputs": [
    {
     "output_type": "stream",
     "name": "stdout",
     "text": [
      "+-----------+---------+----------+------------+--------+----------+-------+------+----+-----+\n|OwnerUserId|TotalPost|TotalScore|TotalAnswers|TotalCmt|TotalWords|isChurn|#Early|#Mid|#Late|\n+-----------+---------+----------+------------+--------+----------+-------+------+----+-----+\n|        148|        3|        98|        19.0|       3|       277|      0|     0|   3|    0|\n|       1088|        5|       212|        29.0|      13|      1010|      0|     1|   2|    2|\n|       1580|       13|       143|        54.0|       7|      1560|      0|     5|   2|    6|\n|       1645|        1|        46|        12.0|       0|       129|      0|     0|   0|    1|\n|       1959|        6|       208|        33.0|       2|       548|      0|     0|   5|    1|\n|       2122|       14|       467|        50.0|      20|      3977|      0|     2|  10|    2|\n|       3175|       12|       311|       111.0|      18|      1791|      0|     3|   8|    1|\n|       3749|        1|         3|         4.0|       0|        52|      1|     1|   0|    0|\n|       4101|        3|        26|        13.0|       0|       251|      1|     3|   0|    0|\n|       5156|        2|       870|        22.0|       2|       143|      1|     2|   0|    0|\n|       6336|        4|        37|        26.0|       5|       337|      0|     2|   2|    0|\n|       8638|        4|        45|         8.0|       2|       533|      0|     1|   1|    2|\n|      11858|        4|        34|        17.0|       2|       118|      0|     2|   2|    0|\n|      13285|        1|       363|         7.0|       1|        62|      0|     0|   1|    0|\n|      13289|        3|        56|        21.0|       1|       505|      0|     2|   1|    0|\n|      13623|        1|         9|         2.0|       0|       151|      1|     1|   0|    0|\n|      14450|        1|         7|         5.0|       1|       145|      0|     0|   0|    1|\n|      15727|        1|         6|         1.0|       0|        98|      0|     0|   1|    0|\n|      15790|        1|         4|         3.0|       0|        83|      0|     0|   1|    0|\n|      17389|        3|         9|         7.0|      12|       375|      0|     2|   1|    0|\n+-----------+---------+----------+------------+--------+----------+-------+------+----+-----+\nonly showing top 20 rows\n\n"
     ]
    }
   ],
   "source": [
    "#   df = posts_dist_df\n",
    "#     dfu = users_train_df\n",
    "train_df = ExtractFeatures(posts_dist_df, users_train_df)\n",
    "train_df.show()"
   ]
  },
  {
   "cell_type": "code",
   "execution_count": 15,
   "metadata": {},
   "outputs": [
    {
     "output_type": "stream",
     "name": "stdout",
     "text": [
      "+-----------+---------+----------+------------+--------+----------+-------+------+----+-----+\n|OwnerUserId|TotalPost|TotalScore|TotalAnswers|TotalCmt|TotalWords|isChurn|#Early|#Mid|#Late|\n+-----------+---------+----------+------------+--------+----------+-------+------+----+-----+\n|       7754|        3|       190|        58.0|       2|       315|      0|     3|   0|    0|\n|       8086|        1|         2|        15.0|       0|        33|      1|     1|   0|    0|\n|      15846|        5|        30|        32.0|       0|       192|      0|     5|   0|    0|\n|      16861|        1|         3|         1.0|       2|        49|      1|     1|   0|    0|\n|      25462|        4|        81|        28.0|       2|       285|      0|     4|   0|    0|\n|      28577|        1|         2|         1.0|       2|        24|      1|     1|   0|    0|\n|      42834|        1|         5|         2.0|       0|        47|      1|     1|   0|    0|\n|      48254|        1|         2|         6.0|       0|       130|      0|     1|   0|    0|\n|      54264|        1|         1|         2.0|       0|       281|      1|     1|   0|    0|\n|      56640|        3|        15|        15.0|       1|       175|      0|     3|   0|    0|\n|      69048|       12|        38|        43.0|       4|       917|      1|    12|   0|    0|\n|      73048|        9|        39|        38.0|       6|       653|      0|     9|   0|    0|\n|      76885|        4|        20|        12.0|       3|       348|      0|     4|   0|    0|\n|      82672|        4|         3|         5.0|       5|       594|      1|     4|   0|    0|\n|      88674|        2|         1|         6.0|       2|       148|      1|     2|   0|    0|\n|      89863|        3|        11|         6.0|       0|       351|      1|     3|   0|    0|\n|      94950|        4|        13|        11.0|       4|       155|      0|     4|   0|    0|\n|     100170|        1|        13|         2.0|       0|       181|      0|     1|   0|    0|\n|    2067778|        1|         1|         1.0|       0|       123|      1|     1|   0|    0|\n|        243|        1|        21|         3.0|       0|        48|      0|     1|   0|    0|\n+-----------+---------+----------+------------+--------+----------+-------+------+----+-----+\nonly showing top 20 rows\n\n"
     ]
    }
   ],
   "source": [
    "val_df = ExtractFeatures(posts_dist_df, users_val_dist_df)\n",
    "val_df.show()"
   ]
  },
  {
   "cell_type": "code",
   "execution_count": 17,
   "metadata": {},
   "outputs": [],
   "source": [
    "from pyspark.ml.feature import VectorAssembler\n",
    "from pyspark.mllib.classification import SVMWithSGD, SVMModel\n",
    "from pyspark.sql.functions import col\n",
    "from pyspark.mllib.regression import LabeledPoint\n",
    "from pyspark.ml.classification import LinearSVC\n",
    "\n",
    "assembler = VectorAssembler(\n",
    "       inputCols=[\"TotalPost\", \"TotalScore\", \"TotalAnswers\", \"TotalCmt\", \"TotalWords\", \"#Early\", \"#Mid\", \"#Late\"],\n",
    "       outputCol=\"features\")\n",
    "\n",
    "train_df_transformed = assembler.transform(train_df)\n",
    "final_df = train_df_transformed.select(col(\"isChurn\").alias(\"label\"), col(\"features\"))\n",
    "# transformed_x.select('features').show()\n",
    "# transformed_x.show()\n",
    "# final.show()\n",
    "\n",
    "# model = SVMWithSGD.train(final, iterations=100)\n",
    "lsvc = LinearSVC(maxIter=10, regParam=0.1)\n",
    "lsvcModel = lsvc.fit(final_df)\n"
   ]
  },
  {
   "cell_type": "code",
   "execution_count": 18,
   "metadata": {},
   "outputs": [
    {
     "output_type": "error",
     "ename": "TypeError",
     "evalue": "predict() missing 1 required positional argument: 'value'",
     "traceback": [
      "\u001b[0;31m---------------------------------------------------------------------------\u001b[0m",
      "\u001b[0;31mTypeError\u001b[0m                                 Traceback (most recent call last)",
      "\u001b[0;32m<ipython-input-18-b3ecb8c4e905>\u001b[0m in \u001b[0;36m<module>\u001b[0;34m\u001b[0m\n\u001b[0;32m----> 1\u001b[0;31m \u001b[0mlsvcModel\u001b[0m\u001b[0;34m.\u001b[0m\u001b[0mpredict\u001b[0m\u001b[0;34m(\u001b[0m\u001b[0;34m)\u001b[0m\u001b[0;34m\u001b[0m\u001b[0;34m\u001b[0m\u001b[0m\n\u001b[0m",
      "\u001b[0;31mTypeError\u001b[0m: predict() missing 1 required positional argument: 'value'"
     ]
    }
   ],
   "source": [
    "val_df_transformed = assembler.transform(val_df)\n",
    "final_df = train_df_transformed.select(col(\"isChurn\").alias(\"label\"), col(\"features\"))\n",
    "lsvcModel.predict()"
   ]
  },
  {
   "cell_type": "code",
   "execution_count": null,
   "metadata": {},
   "outputs": [],
   "source": [
    "# Construct validation x,y\n",
    "val_x = users_val_dist_df.join(posts_dist_df, posts_dist_df.OwnerUserId == users_val_dist_df.Id)\n",
    "val_x.show()"
   ]
  }
 ],
 "metadata": {
  "kernelspec": {
   "display_name": "Python 3.8.2 64-bit",
   "language": "python",
   "name": "python38264bit4f0c81526cfe47f0b5e48236522dc9b6"
  },
  "language_info": {
   "codemirror_mode": {
    "name": "ipython",
    "version": 3
   },
   "file_extension": ".py",
   "mimetype": "text/x-python",
   "name": "python",
   "nbconvert_exporter": "python",
   "pygments_lexer": "ipython3",
   "version": "3.8.5-final"
  }
 },
 "nbformat": 4,
 "nbformat_minor": 2
}